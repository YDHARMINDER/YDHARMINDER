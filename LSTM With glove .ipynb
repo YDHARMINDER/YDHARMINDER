{
 "cells": [
  {
   "cell_type": "code",
   "execution_count": 5,
   "id": "50d383b6",
   "metadata": {},
   "outputs": [],
   "source": [
    "from keras.datasets import imdb\n",
    "import pandas as pd\n",
    "import numpy as np\n",
    "from keras.layers import LSTM, Activation, Dropout, Dense, Input\n",
    "#from keras.layers.embeddings import Embedding\n",
    "from keras.models import Model\n",
    "import string\n",
    "import re\n",
    "from keras.preprocessing.text import Tokenizer\n",
    "from sklearn.preprocessing import LabelBinarizer\n",
    "#from keras.preprocessing.sequence import pad_sequences\n",
    "import keras\n",
    "from sklearn.model_selection import train_test_split"
   ]
  },
  {
   "cell_type": "code",
   "execution_count": 2,
   "id": "581fa3dd",
   "metadata": {},
   "outputs": [
    {
     "name": "stdout",
     "output_type": "stream",
     "text": [
      "Defaulting to user installation because normal site-packages is not writeable\n",
      "Requirement already satisfied: keras-pos-embd in c:\\users\\user\\appdata\\roaming\\python\\python39\\site-packages (0.13.0)\n",
      "Requirement already satisfied: numpy in c:\\programdata\\anaconda3\\lib\\site-packages (from keras-pos-embd) (1.21.0)\n",
      "Note: you may need to restart the kernel to use updated packages.\n"
     ]
    }
   ],
   "source": [
    "pip install keras-pos-embd"
   ]
  },
  {
   "cell_type": "code",
   "execution_count": 49,
   "id": "16af92d0",
   "metadata": {},
   "outputs": [],
   "source": [
    "train = pd.read_csv(\"C:/Users/USER/Downloads/CleanDatasetMedical.csv\")\n",
    "test = pd.read_csv(\"C:/Users/USER/Downloads/df_test_sentiment.csv\")"
   ]
  },
  {
   "cell_type": "code",
   "execution_count": 50,
   "id": "5a77eea6",
   "metadata": {},
   "outputs": [],
   "source": [
    "train=train.dropna()"
   ]
  },
  {
   "cell_type": "code",
   "execution_count": 51,
   "id": "f858ceee",
   "metadata": {},
   "outputs": [],
   "source": [
    "train = train.reset_index()"
   ]
  },
  {
   "cell_type": "code",
   "execution_count": 52,
   "id": "fdddb4fb",
   "metadata": {},
   "outputs": [
    {
     "name": "stdout",
     "output_type": "stream",
     "text": [
      "<class 'pandas.core.frame.DataFrame'>\n",
      "RangeIndex: 161291 entries, 0 to 161290\n",
      "Data columns (total 4 columns):\n",
      " #   Column           Non-Null Count   Dtype \n",
      "---  ------           --------------   ----- \n",
      " 0   index            161291 non-null  int64 \n",
      " 1   Unnamed: 0       161291 non-null  int64 \n",
      " 2   Lemmatized_text  161291 non-null  object\n",
      " 3   comp_score       161291 non-null  int64 \n",
      "dtypes: int64(3), object(1)\n",
      "memory usage: 4.9+ MB\n",
      "None\n"
     ]
    }
   ],
   "source": [
    "print(train.info())"
   ]
  },
  {
   "cell_type": "code",
   "execution_count": 10,
   "id": "6db68395",
   "metadata": {},
   "outputs": [],
   "source": [
    "train['Lemmatized_text'] = train['Lemmatized_text'].str.lower()"
   ]
  },
  {
   "cell_type": "code",
   "execution_count": 11,
   "id": "f4b032a8",
   "metadata": {},
   "outputs": [],
   "source": [
    "stopwords = [ \"a\", \"about\", \"above\", \"after\", \"again\", \"against\", \"all\", \"am\", \"an\", \"and\", \"any\", \"are\", \"as\", \"at\", \"be\", \"because\", \n",
    "             \"been\", \"before\", \"being\", \"below\", \"between\", \"both\", \"but\", \"by\", \"could\", \"did\", \"do\", \"does\", \"doing\", \"down\", \"during\",\n",
    "             \"each\", \"few\", \"for\", \"from\", \"further\", \"had\", \"has\", \"have\", \"having\", \"he\", \"he'd\", \"he'll\", \"he's\", \"her\", \"here\", \n",
    "             \"here's\", \"hers\", \"herself\", \"him\", \"himself\", \"his\", \"how\", \"how's\", \"i\", \"i'd\", \"i'll\", \"i'm\", \"i've\", \"if\", \"in\", \"into\",\n",
    "             \"is\", \"it\", \"it's\", \"its\", \"itself\", \"let's\", \"me\", \"more\", \"most\", \"my\", \"myself\", \"nor\", \"of\", \"on\", \"once\", \"only\", \"or\",\n",
    "             \"other\", \"ought\", \"our\", \"ours\", \"ourselves\", \"out\", \"over\", \"own\", \"same\", \"she\", \"she'd\", \"she'll\", \"she's\", \"should\", \n",
    "             \"so\", \"some\", \"such\", \"than\", \"that\", \"that's\", \"the\", \"their\", \"theirs\", \"them\", \"themselves\", \"then\", \"there\", \"there's\",\n",
    "             \"these\", \"they\", \"they'd\", \"they'll\", \"they're\", \"they've\", \"this\", \"those\", \"through\", \"to\", \"too\", \"under\", \"until\", \"up\",\n",
    "             \"very\", \"was\", \"we\", \"we'd\", \"we'll\", \"we're\", \"we've\", \"were\", \"what\", \"what's\", \"when\", \"when's\", \"where\", \"where's\",\n",
    "             \"which\", \"while\", \"who\", \"who's\", \"whom\", \"why\", \"why's\", \"with\", \"would\", \"you\", \"you'd\", \"you'll\", \"you're\", \"you've\",\n",
    "             \"your\", \"yours\", \"yourself\", \"yourselves\" ]"
   ]
  },
  {
   "cell_type": "code",
   "execution_count": 13,
   "id": "8e6fa90b",
   "metadata": {},
   "outputs": [
    {
     "name": "stderr",
     "output_type": "stream",
     "text": [
      "C:\\Users\\USER\\AppData\\Local\\Temp\\ipykernel_15240\\4002884222.py:11: FutureWarning: The default value of regex will change from True to False in a future version.\n",
      "  data_without_stopwords['clean_review'] = data_without_stopwords['clean_review'].str.replace('[{}]'.format(string.punctuation), ' ')\n"
     ]
    }
   ],
   "source": [
    "def remove_stopwords(data):\n",
    "  train['review without stopwords'] = train['Lemmatized_text'].apply(lambda x : ' '.join([word for word in x.split() if word not in (stopwords)]))\n",
    "  return data\n",
    "\n",
    "def remove_tags(string):\n",
    "    result = re.sub('<.*?>','',string)\n",
    "    return result\n",
    "    \n",
    "data_without_stopwords = remove_stopwords(train)\n",
    "data_without_stopwords['clean_review']= data_without_stopwords['review without stopwords'].apply(lambda cw : remove_tags(cw))\n",
    "data_without_stopwords['clean_review'] = data_without_stopwords['clean_review'].str.replace('[{}]'.format(string.punctuation), ' ')"
   ]
  },
  {
   "cell_type": "code",
   "execution_count": 17,
   "id": "28e924e2",
   "metadata": {},
   "outputs": [
    {
     "data": {
      "text/html": [
       "<div>\n",
       "<style scoped>\n",
       "    .dataframe tbody tr th:only-of-type {\n",
       "        vertical-align: middle;\n",
       "    }\n",
       "\n",
       "    .dataframe tbody tr th {\n",
       "        vertical-align: top;\n",
       "    }\n",
       "\n",
       "    .dataframe thead th {\n",
       "        text-align: right;\n",
       "    }\n",
       "</style>\n",
       "<table border=\"1\" class=\"dataframe\">\n",
       "  <thead>\n",
       "    <tr style=\"text-align: right;\">\n",
       "      <th></th>\n",
       "      <th>index</th>\n",
       "      <th>Unnamed: 0</th>\n",
       "      <th>Lemmatized_text</th>\n",
       "      <th>comp_score</th>\n",
       "      <th>review without stopwords</th>\n",
       "      <th>clean_review</th>\n",
       "    </tr>\n",
       "  </thead>\n",
       "  <tbody>\n",
       "    <tr>\n",
       "      <th>0</th>\n",
       "      <td>0</td>\n",
       "      <td>0</td>\n",
       "      <td>side effect take combination bystolic mg fish oil</td>\n",
       "      <td>1</td>\n",
       "      <td>side effect take combination bystolic mg fish oil</td>\n",
       "      <td>side effect take combination bystolic mg fish oil</td>\n",
       "    </tr>\n",
       "    <tr>\n",
       "      <th>1</th>\n",
       "      <td>1</td>\n",
       "      <td>1</td>\n",
       "      <td>son halfway fourth week intuniv became concern...</td>\n",
       "      <td>1</td>\n",
       "      <td>son halfway fourth week intuniv became concern...</td>\n",
       "      <td>son halfway fourth week intuniv became concern...</td>\n",
       "    </tr>\n",
       "    <tr>\n",
       "      <th>2</th>\n",
       "      <td>2</td>\n",
       "      <td>2</td>\n",
       "      <td>used take another oral contraceptive pill cycl...</td>\n",
       "      <td>1</td>\n",
       "      <td>used take another oral contraceptive pill cycl...</td>\n",
       "      <td>used take another oral contraceptive pill cycl...</td>\n",
       "    </tr>\n",
       "    <tr>\n",
       "      <th>3</th>\n",
       "      <td>3</td>\n",
       "      <td>3</td>\n",
       "      <td>first time using form birth control glad went ...</td>\n",
       "      <td>1</td>\n",
       "      <td>first time using form birth control glad went ...</td>\n",
       "      <td>first time using form birth control glad went ...</td>\n",
       "    </tr>\n",
       "    <tr>\n",
       "      <th>4</th>\n",
       "      <td>4</td>\n",
       "      <td>4</td>\n",
       "      <td>suboxone completely turned life around feel he...</td>\n",
       "      <td>1</td>\n",
       "      <td>suboxone completely turned life around feel he...</td>\n",
       "      <td>suboxone completely turned life around feel he...</td>\n",
       "    </tr>\n",
       "    <tr>\n",
       "      <th>...</th>\n",
       "      <td>...</td>\n",
       "      <td>...</td>\n",
       "      <td>...</td>\n",
       "      <td>...</td>\n",
       "      <td>...</td>\n",
       "      <td>...</td>\n",
       "    </tr>\n",
       "    <tr>\n",
       "      <th>161286</th>\n",
       "      <td>161292</td>\n",
       "      <td>161292</td>\n",
       "      <td>wrote first report mid october alcohol since p...</td>\n",
       "      <td>1</td>\n",
       "      <td>wrote first report mid october alcohol since p...</td>\n",
       "      <td>wrote first report mid october alcohol since p...</td>\n",
       "    </tr>\n",
       "    <tr>\n",
       "      <th>161287</th>\n",
       "      <td>161293</td>\n",
       "      <td>161293</td>\n",
       "      <td>given iv surgey immediately became anxious cou...</td>\n",
       "      <td>0</td>\n",
       "      <td>given iv surgey immediately became anxious sit...</td>\n",
       "      <td>given iv surgey immediately became anxious sit...</td>\n",
       "    </tr>\n",
       "    <tr>\n",
       "      <th>161288</th>\n",
       "      <td>161294</td>\n",
       "      <td>161294</td>\n",
       "      <td>limited improvement month developed bad rash m...</td>\n",
       "      <td>0</td>\n",
       "      <td>limited improvement month developed bad rash m...</td>\n",
       "      <td>limited improvement month developed bad rash m...</td>\n",
       "    </tr>\n",
       "    <tr>\n",
       "      <th>161289</th>\n",
       "      <td>161295</td>\n",
       "      <td>161295</td>\n",
       "      <td>thyroid medication year spent first synthroid ...</td>\n",
       "      <td>1</td>\n",
       "      <td>thyroid medication year spent first synthroid ...</td>\n",
       "      <td>thyroid medication year spent first synthroid ...</td>\n",
       "    </tr>\n",
       "    <tr>\n",
       "      <th>161290</th>\n",
       "      <td>161296</td>\n",
       "      <td>161296</td>\n",
       "      <td>chronic constipation adult life tried linz wor...</td>\n",
       "      <td>1</td>\n",
       "      <td>chronic constipation adult life tried linz wor...</td>\n",
       "      <td>chronic constipation adult life tried linz wor...</td>\n",
       "    </tr>\n",
       "  </tbody>\n",
       "</table>\n",
       "<p>161291 rows × 6 columns</p>\n",
       "</div>"
      ],
      "text/plain": [
       "         index  Unnamed: 0                                    Lemmatized_text  \\\n",
       "0            0           0  side effect take combination bystolic mg fish oil   \n",
       "1            1           1  son halfway fourth week intuniv became concern...   \n",
       "2            2           2  used take another oral contraceptive pill cycl...   \n",
       "3            3           3  first time using form birth control glad went ...   \n",
       "4            4           4  suboxone completely turned life around feel he...   \n",
       "...        ...         ...                                                ...   \n",
       "161286  161292      161292  wrote first report mid october alcohol since p...   \n",
       "161287  161293      161293  given iv surgey immediately became anxious cou...   \n",
       "161288  161294      161294  limited improvement month developed bad rash m...   \n",
       "161289  161295      161295  thyroid medication year spent first synthroid ...   \n",
       "161290  161296      161296  chronic constipation adult life tried linz wor...   \n",
       "\n",
       "        comp_score                           review without stopwords  \\\n",
       "0                1  side effect take combination bystolic mg fish oil   \n",
       "1                1  son halfway fourth week intuniv became concern...   \n",
       "2                1  used take another oral contraceptive pill cycl...   \n",
       "3                1  first time using form birth control glad went ...   \n",
       "4                1  suboxone completely turned life around feel he...   \n",
       "...            ...                                                ...   \n",
       "161286           1  wrote first report mid october alcohol since p...   \n",
       "161287           0  given iv surgey immediately became anxious sit...   \n",
       "161288           0  limited improvement month developed bad rash m...   \n",
       "161289           1  thyroid medication year spent first synthroid ...   \n",
       "161290           1  chronic constipation adult life tried linz wor...   \n",
       "\n",
       "                                             clean_review  \n",
       "0       side effect take combination bystolic mg fish oil  \n",
       "1       son halfway fourth week intuniv became concern...  \n",
       "2       used take another oral contraceptive pill cycl...  \n",
       "3       first time using form birth control glad went ...  \n",
       "4       suboxone completely turned life around feel he...  \n",
       "...                                                   ...  \n",
       "161286  wrote first report mid october alcohol since p...  \n",
       "161287  given iv surgey immediately became anxious sit...  \n",
       "161288  limited improvement month developed bad rash m...  \n",
       "161289  thyroid medication year spent first synthroid ...  \n",
       "161290  chronic constipation adult life tried linz wor...  \n",
       "\n",
       "[161291 rows x 6 columns]"
      ]
     },
     "execution_count": 17,
     "metadata": {},
     "output_type": "execute_result"
    }
   ],
   "source": [
    "data_without_stopwords"
   ]
  },
  {
   "cell_type": "code",
   "execution_count": 20,
   "id": "7adf36d3",
   "metadata": {},
   "outputs": [],
   "source": [
    "X_train, X_test,Y_train, Y_test = train_test_split(train['Lemmatized_text'], train['comp_score'], test_size=0.2, random_state = 45)"
   ]
  },
  {
   "cell_type": "code",
   "execution_count": 21,
   "id": "81f3fa65",
   "metadata": {},
   "outputs": [],
   "source": [
    "tokenizer = Tokenizer(num_words=5000)\n",
    "tokenizer.fit_on_texts(X_train)\n",
    "\n",
    "words_to_index = tokenizer.word_index"
   ]
  },
  {
   "cell_type": "code",
   "execution_count": 22,
   "id": "c8feb499",
   "metadata": {},
   "outputs": [],
   "source": [
    "def read_glove_vector(glove_vec):\n",
    "  with open(glove_vec, 'r', encoding='UTF-8') as f:\n",
    "    words = set()\n",
    "    word_to_vec_map = {}\n",
    "    for line in f:\n",
    "      w_line = line.split()\n",
    "      curr_word = w_line[0]\n",
    "      word_to_vec_map[curr_word] = np.array(w_line[1:], dtype=np.float64)\n",
    "\n",
    "\n",
    "\n",
    "  return word_to_vec_map"
   ]
  },
  {
   "cell_type": "code",
   "execution_count": 23,
   "id": "29ffdd9c",
   "metadata": {},
   "outputs": [],
   "source": [
    "word_to_vec_map = read_glove_vector('C:/Users/USER/Downloads/glove.6B.50d.txt/glove.6B.50d.txt')\n",
    "\n",
    "maxLen = 150"
   ]
  },
  {
   "cell_type": "code",
   "execution_count": 36,
   "id": "8c0dcc65",
   "metadata": {},
   "outputs": [],
   "source": [
    "import nltk\n",
    "import pandas as pd\n",
    "import matplotlib.pyplot as plt\n",
    "import seaborn as sns\n",
    "import numpy as np\n",
    "import matplotlib.pyplot as plt\n",
    "from nltk.corpus import stopwords\n",
    "from collections import defaultdict\n",
    "from collections import  Counter\n",
    "plt.style.use('ggplot')\n",
    "#stop=set(stopwords.words('english'))\n",
    "import re\n",
    "from nltk.tokenize import word_tokenize\n",
    "import gensim\n",
    "import string\n",
    "import tensorflow as tf\n",
    "from keras.preprocessing.text import Tokenizer\n",
    "#from keras.preprocessing.sequence import pad_sequences\n",
    "from tensorflow.keras.regularizers import l1\n",
    "from tqdm import tqdm\n",
    "from keras.models import Sequential\n",
    "from keras.layers import Embedding,LSTM,Dense,SpatialDropout1D\n",
    "from keras.initializers import Constant\n",
    "from sklearn.model_selection import train_test_split\n",
    "from keras.optimizers import Adam\n",
    "from sklearn.metrics import accuracy_score \n",
    "import numpy as np\n",
    "from time import time\n",
    "import os"
   ]
  },
  {
   "cell_type": "code",
   "execution_count": 43,
   "id": "cd32007d",
   "metadata": {},
   "outputs": [],
   "source": [
    "import numpy as np\n",
    "import pandas as pd\n",
    "import matplotlib.pyplot as plt\n",
    "import seaborn as sns\n",
    "import scipy.stats as stats\n",
    "\n",
    "from sklearn.model_selection import train_test_split\n",
    "from sklearn.metrics import classification_report, precision_recall_curve\n",
    "\n",
    "import re\n",
    "import nltk\n",
    "from nltk.corpus import stopwords\n",
    "from nltk.stem import WordNetLemmatizer\n",
    "from spacy.lang.en import English\n",
    "from spacy.lang.en.stop_words import STOP_WORDS\n",
    "lemma = WordNetLemmatizer()\n",
    "\n",
    "from keras.preprocessing.text import Tokenizer\n",
    "#from keras.preprocessing.sequence import pad_sequences\n",
    "from keras.models import Sequential\n",
    "from keras.layers import Dense, Bidirectional, LSTM, Dropout, BatchNormalization\n",
    "#from keras.layers.embeddings import Embedding"
   ]
  },
  {
   "cell_type": "code",
   "execution_count": 44,
   "id": "1c79b2f4",
   "metadata": {},
   "outputs": [],
   "source": [
    "from keras_preprocessing.sequence import pad_sequences"
   ]
  },
  {
   "cell_type": "code",
   "execution_count": 47,
   "id": "4fce42fa",
   "metadata": {},
   "outputs": [],
   "source": [
    "embeddings_index = dict()\n",
    "f = open('C:/Users/USER/Downloads/glove.6B.50d.txt/glove.6B.50d.txt',encoding=\"utf8\")\n",
    "for line in f:\n",
    "    values = line.split()\n",
    "    word = values[0]\n",
    "    coefs = np.asarray(values[1:], dtype='float32')\n",
    "    embeddings_index[word] = coefs\n",
    "f.close()"
   ]
  },
  {
   "cell_type": "code",
   "execution_count": 56,
   "id": "6c71b6f0",
   "metadata": {},
   "outputs": [],
   "source": [
    "max_length = train.Lemmatized_text.apply(lambda x: len(x.split())).max()\n",
    "\n",
    "t = Tokenizer()\n",
    "t.fit_on_texts(train.Lemmatized_text)\n",
    "vocab_size = len(t.word_index) + 1\n",
    "encoded_tweets = t.texts_to_sequences(train.Lemmatized_text)\n",
    "padded_tweets = pad_sequences(encoded_tweets, maxlen=max_length, padding='post')\n",
    "\n",
    "vocab_size = len(t.word_index) + 1"
   ]
  },
  {
   "cell_type": "code",
   "execution_count": 57,
   "id": "ea6b2e68",
   "metadata": {},
   "outputs": [],
   "source": [
    "embedding_matrix = np.zeros((vocab_size, 50))\n",
    "for word, i in t.word_index.items():\n",
    "    embedding_vector = embeddings_index.get(word)\n",
    "    if embedding_vector is not None:\n",
    "        embedding_matrix[i] = embedding_vector"
   ]
  },
  {
   "cell_type": "code",
   "execution_count": 58,
   "id": "e18d5044",
   "metadata": {},
   "outputs": [],
   "source": [
    "x_train, x_test, y_train, y_test = train_test_split(padded_tweets, train.comp_score, test_size=0.2, stratify=train.comp_score)"
   ]
  },
  {
   "cell_type": "code",
   "execution_count": 59,
   "id": "2bb81eb1",
   "metadata": {},
   "outputs": [],
   "source": [
    "model_glove = Sequential()\n",
    "model_glove.add(Embedding(vocab_size, 50, input_length=max_length, weights=[embedding_matrix], trainable=True))\n",
    "model_glove.add(Bidirectional(LSTM(20, return_sequences=True)))\n",
    "model_glove.add(Dropout(0.2))\n",
    "model_glove.add(BatchNormalization())\n",
    "model_glove.add(Bidirectional(LSTM(20, return_sequences=True)))\n",
    "model_glove.add(Dropout(0.2))\n",
    "model_glove.add(BatchNormalization())\n",
    "model_glove.add(Bidirectional(LSTM(20)))\n",
    "model_glove.add(Dropout(0.2))\n",
    "model_glove.add(BatchNormalization())\n",
    "model_glove.add(Dense(64, activation='relu'))\n",
    "model_glove.add(Dense(64, activation='relu'))\n",
    "model_glove.add(Dense(1, activation='sigmoid'))\n",
    "model_glove.compile(loss='binary_crossentropy', optimizer='adam', metrics=['accuracy'])"
   ]
  },
  {
   "cell_type": "code",
   "execution_count": 60,
   "id": "cb60fe37",
   "metadata": {},
   "outputs": [
    {
     "name": "stdout",
     "output_type": "stream",
     "text": [
      "Epoch 1/10\n",
      "4033/4033 [==============================] - 55916s 14s/step - loss: 0.3739 - accuracy: 0.8253\n",
      "Epoch 2/10\n",
      "4033/4033 [==============================] - 26821s 7s/step - loss: 0.1948 - accuracy: 0.9246\n",
      "Epoch 3/10\n",
      "4033/4033 [==============================] - 57425s 14s/step - loss: 0.1330 - accuracy: 0.9500\n",
      "Epoch 4/10\n",
      "4033/4033 [==============================] - 28157s 7s/step - loss: 0.0986 - accuracy: 0.9635\n",
      "Epoch 5/10\n",
      "4033/4033 [==============================] - 52540s 13s/step - loss: 0.0727 - accuracy: 0.9735\n",
      "Epoch 6/10\n",
      "4033/4033 [==============================] - 34756s 9s/step - loss: 0.0588 - accuracy: 0.9788\n",
      "Epoch 7/10\n",
      "4033/4033 [==============================] - 83364s 21s/step - loss: 0.0461 - accuracy: 0.9836\n",
      "Epoch 8/10\n",
      "4033/4033 [==============================] - 8247s 2s/step - loss: 0.0378 - accuracy: 0.9865\n",
      "Epoch 9/10\n",
      "4033/4033 [==============================] - 132366s 33s/step - loss: 0.0330 - accuracy: 0.9885\n",
      "Epoch 10/10\n",
      "4033/4033 [==============================] - 8295s 2s/step - loss: 0.0283 - accuracy: 0.9907\n"
     ]
    },
    {
     "data": {
      "text/plain": [
       "<keras.callbacks.History at 0x1b74608adc0>"
      ]
     },
     "execution_count": 60,
     "metadata": {},
     "output_type": "execute_result"
    }
   ],
   "source": [
    "## Fit train data\n",
    "model_glove.fit(x_train, y_train, epochs = 10)"
   ]
  },
  {
   "cell_type": "code",
   "execution_count": 61,
   "id": "57a750ab",
   "metadata": {},
   "outputs": [
    {
     "name": "stdout",
     "output_type": "stream",
     "text": [
      "1009/1009 [==============================] - 456s 437ms/step\n"
     ]
    }
   ],
   "source": [
    "\n",
    "\n",
    "y_pred = model_glove.predict(x_test)\n",
    "\n"
   ]
  },
  {
   "cell_type": "code",
   "execution_count": 62,
   "id": "c884a30f",
   "metadata": {},
   "outputs": [
    {
     "data": {
      "image/png": "[encoded data removed]",
      "text/plain": [
       "<Figure size 432x288 with 1 Axes>"
      ]
     },
     "metadata": {},
     "output_type": "display_data"
    },
    {
     "name": "stdout",
     "output_type": "stream",
     "text": [
      "Crossover at 0.38 with recall 0.96\n",
      "              precision    recall  f1-score   support\n",
      "\n",
      "           0       0.96      0.96      0.96     15546\n",
      "           1       0.96      0.96      0.96     16713\n",
      "\n",
      "    accuracy                           0.96     32259\n",
      "   macro avg       0.96      0.96      0.96     32259\n",
      "weighted avg       0.96      0.96      0.96     32259\n",
      "\n"
     ]
    }
   ],
   "source": [
    "pr, rc, thresholds = precision_recall_curve(y_test, y_pred)\n",
    "plt.plot(thresholds, pr[1:])\n",
    "plt.plot(thresholds, rc[1:])\n",
    "plt.show()\n",
    "crossover_index = np.max(np.where(pr == rc))\n",
    "crossover_cutoff = thresholds[crossover_index]\n",
    "crossover_recall = rc[crossover_index]\n",
    "print(\"Crossover at {0:.2f} with recall {1:.2f}\".format(crossover_cutoff, crossover_recall))\n",
    "print(classification_report(y_test, y_pred > crossover_cutoff))"
   ]
  },
  {
   "cell_type": "code",
   "execution_count": null,
   "id": "5a85d005",
   "metadata": {},
   "outputs": [],
   "source": []
  }
 ],
 "metadata": {
  "kernelspec": {
   "display_name": "Python 3 (ipykernel)",
   "language": "python",
   "name": "python3"
  },
  "language_info": {
   "codemirror_mode": {
    "name": "ipython",
    "version": 3
   },
   "file_extension": ".py",
   "mimetype": "text/x-python",
   "name": "python",
   "nbconvert_exporter": "python",
   "pygments_lexer": "ipython3",
   "version": "3.9.12"
  }
 },
 "nbformat": 4,
 "nbformat_minor": 5
}
